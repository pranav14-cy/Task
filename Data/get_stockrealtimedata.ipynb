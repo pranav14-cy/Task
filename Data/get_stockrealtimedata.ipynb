{
 "cells": [
  {
   "cell_type": "code",
   "execution_count": 9,
   "id": "flush-mobility",
   "metadata": {},
   "outputs": [],
   "source": [
    "import re\n",
    "import csv\n",
    "from io import StringIO\n",
    "from bs4 import BeautifulSoup\n",
    "import requests\n",
    "import talib\n",
    "import yfinance as yf\n",
    "import numpy as np\n",
    "import pandas  as pd\n",
    "import matplotlib.pyplot as plt\n",
    "plt.style.use('fivethirtyeight')\n",
    "%matplotlib inline"
   ]
  },
  {
   "cell_type": "code",
   "execution_count": 13,
   "id": "prescription-surrey",
   "metadata": {},
   "outputs": [
    {
     "name": "stdout",
     "output_type": "stream",
     "text": [
      "[*********************100%***********************]  1 of 1 completed\n"
     ]
    },
    {
     "data": {
      "text/html": [
       "<div>\n",
       "<style scoped>\n",
       "    .dataframe tbody tr th:only-of-type {\n",
       "        vertical-align: middle;\n",
       "    }\n",
       "\n",
       "    .dataframe tbody tr th {\n",
       "        vertical-align: top;\n",
       "    }\n",
       "\n",
       "    .dataframe thead th {\n",
       "        text-align: right;\n",
       "    }\n",
       "</style>\n",
       "<table border=\"1\" class=\"dataframe\">\n",
       "  <thead>\n",
       "    <tr style=\"text-align: right;\">\n",
       "      <th></th>\n",
       "      <th>Open</th>\n",
       "      <th>High</th>\n",
       "      <th>Low</th>\n",
       "      <th>Close</th>\n",
       "      <th>Adj Close</th>\n",
       "      <th>Volume</th>\n",
       "    </tr>\n",
       "    <tr>\n",
       "      <th>Date</th>\n",
       "      <th></th>\n",
       "      <th></th>\n",
       "      <th></th>\n",
       "      <th></th>\n",
       "      <th></th>\n",
       "      <th></th>\n",
       "    </tr>\n",
       "  </thead>\n",
       "  <tbody>\n",
       "    <tr>\n",
       "      <th>2016-03-16</th>\n",
       "      <td>416.888000</td>\n",
       "      <td>417.686005</td>\n",
       "      <td>415.911987</td>\n",
       "      <td>417.010986</td>\n",
       "      <td>417.010986</td>\n",
       "      <td>65185800</td>\n",
       "    </tr>\n",
       "    <tr>\n",
       "      <th>2016-03-17</th>\n",
       "      <td>417.889008</td>\n",
       "      <td>420.997009</td>\n",
       "      <td>417.889008</td>\n",
       "      <td>420.621002</td>\n",
       "      <td>420.621002</td>\n",
       "      <td>83528600</td>\n",
       "    </tr>\n",
       "    <tr>\n",
       "      <th>2016-03-18</th>\n",
       "      <td>420.546997</td>\n",
       "      <td>420.546997</td>\n",
       "      <td>406.136993</td>\n",
       "      <td>409.548004</td>\n",
       "      <td>409.548004</td>\n",
       "      <td>104940000</td>\n",
       "    </tr>\n",
       "    <tr>\n",
       "      <th>2016-03-19</th>\n",
       "      <td>409.265015</td>\n",
       "      <td>410.984009</td>\n",
       "      <td>407.230011</td>\n",
       "      <td>410.444000</td>\n",
       "      <td>410.444000</td>\n",
       "      <td>58423000</td>\n",
       "    </tr>\n",
       "    <tr>\n",
       "      <th>2016-03-20</th>\n",
       "      <td>410.401001</td>\n",
       "      <td>414.625000</td>\n",
       "      <td>410.401001</td>\n",
       "      <td>413.755005</td>\n",
       "      <td>413.755005</td>\n",
       "      <td>45947900</td>\n",
       "    </tr>\n",
       "  </tbody>\n",
       "</table>\n",
       "</div>"
      ],
      "text/plain": [
       "                  Open        High         Low       Close   Adj Close  \\\n",
       "Date                                                                     \n",
       "2016-03-16  416.888000  417.686005  415.911987  417.010986  417.010986   \n",
       "2016-03-17  417.889008  420.997009  417.889008  420.621002  420.621002   \n",
       "2016-03-18  420.546997  420.546997  406.136993  409.548004  409.548004   \n",
       "2016-03-19  409.265015  410.984009  407.230011  410.444000  410.444000   \n",
       "2016-03-20  410.401001  414.625000  410.401001  413.755005  413.755005   \n",
       "\n",
       "               Volume  \n",
       "Date                   \n",
       "2016-03-16   65185800  \n",
       "2016-03-17   83528600  \n",
       "2016-03-18  104940000  \n",
       "2016-03-19   58423000  \n",
       "2016-03-20   45947900  "
      ]
     },
     "execution_count": 13,
     "metadata": {},
     "output_type": "execute_result"
    }
   ],
   "source": [
    "data = yf.download('BTC-USD', start=\"2016-03-17\", end=\"2021-03-17\")\n",
    "data.head()"
   ]
  },
  {
   "cell_type": "code",
   "execution_count": 14,
   "id": "religious-intellectual",
   "metadata": {},
   "outputs": [],
   "source": [
    "list_stocks=['AMZN','MSFT', 'AAPL','NIO', 'NVDA', 'GOOGL','PYPL','NFLX', 'MRNA','FB', 'AMD', 'CMCSA', 'PEP','ADBE','CSCO',\n",
    "             'AVGO','QCOM','TXN','ABNB', 'AMGN']"
   ]
  },
  {
   "cell_type": "code",
   "execution_count": 15,
   "id": "forced-prospect",
   "metadata": {},
   "outputs": [],
   "source": [
    "list_crypto = ['BTC-USD','ETH-USD','BNB-USD','ADA-USD','DOT1-USD','XRP-USD','LTC-USD','THETA-USD','LINK-USD']"
   ]
  },
  {
   "cell_type": "code",
   "execution_count": 16,
   "id": "stuck-cause",
   "metadata": {},
   "outputs": [
    {
     "name": "stdout",
     "output_type": "stream",
     "text": [
      "[*********************100%***********************]  1 of 1 completed\n",
      "[*********************100%***********************]  1 of 1 completed\n",
      "[*********************100%***********************]  1 of 1 completed\n",
      "[*********************100%***********************]  1 of 1 completed\n",
      "[*********************100%***********************]  1 of 1 completed\n",
      "[*********************100%***********************]  1 of 1 completed\n",
      "[*********************100%***********************]  1 of 1 completed\n",
      "[*********************100%***********************]  1 of 1 completed\n",
      "[*********************100%***********************]  1 of 1 completed\n",
      "[*********************100%***********************]  1 of 1 completed\n",
      "[*********************100%***********************]  1 of 1 completed\n",
      "[*********************100%***********************]  1 of 1 completed\n",
      "[*********************100%***********************]  1 of 1 completed\n",
      "[*********************100%***********************]  1 of 1 completed\n",
      "[*********************100%***********************]  1 of 1 completed\n",
      "[*********************100%***********************]  1 of 1 completed\n",
      "[*********************100%***********************]  1 of 1 completed\n",
      "[*********************100%***********************]  1 of 1 completed\n",
      "[*********************100%***********************]  1 of 1 completed\n",
      "[*********************100%***********************]  1 of 1 completed\n"
     ]
    }
   ],
   "source": [
    "for i in range(len(list_stocks)):\n",
    "    data = yf.download(list_stocks[i], start=\"2016-03-17\", end=\"2021-03-17\")\n",
    "    data.to_csv(list_stocks[i] + '.csv')"
   ]
  },
  {
   "cell_type": "code",
   "execution_count": 17,
   "id": "local-farming",
   "metadata": {},
   "outputs": [
    {
     "name": "stdout",
     "output_type": "stream",
     "text": [
      "[*********************100%***********************]  1 of 1 completed\n",
      "[*********************100%***********************]  1 of 1 completed\n",
      "[*********************100%***********************]  1 of 1 completed\n",
      "[*********************100%***********************]  1 of 1 completed\n",
      "[*********************100%***********************]  1 of 1 completed\n",
      "[*********************100%***********************]  1 of 1 completed\n",
      "[*********************100%***********************]  1 of 1 completed\n",
      "[*********************100%***********************]  1 of 1 completed\n",
      "[*********************100%***********************]  1 of 1 completed\n"
     ]
    }
   ],
   "source": [
    "for i in range(len(list_crypto)):\n",
    "    data = yf.download(list_crypto[i], start=\"2016-03-17\", end=\"2021-03-17\")\n",
    "    data.to_csv(list_crypto[i] + '.csv')"
   ]
  },
  {
   "cell_type": "code",
   "execution_count": null,
   "id": "opposed-dealing",
   "metadata": {},
   "outputs": [],
   "source": []
  }
 ],
 "metadata": {
  "kernelspec": {
   "display_name": "Python 3",
   "language": "python",
   "name": "python3"
  },
  "language_info": {
   "codemirror_mode": {
    "name": "ipython",
    "version": 3
   },
   "file_extension": ".py",
   "mimetype": "text/x-python",
   "name": "python",
   "nbconvert_exporter": "python",
   "pygments_lexer": "ipython3",
   "version": "3.8.5"
  }
 },
 "nbformat": 4,
 "nbformat_minor": 5
}
