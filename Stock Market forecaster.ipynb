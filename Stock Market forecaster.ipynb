{
 "cells": [
  {
   "cell_type": "code",
   "execution_count": 1,
   "id": "diverse-layer",
   "metadata": {},
   "outputs": [],
   "source": [
    "import math\n",
    "import matplotlib.pyplot as plt\n",
    "%matplotlib inline\n",
    "import numpy as np\n",
    "import pandas as pd\n",
    "from keras.models import Sequential\n",
    "from keras.layers import Dense, LSTM, Dropout\n",
    "from sklearn.preprocessing import MinMaxScaler\n",
    "import tensorflow as tf"
   ]
  },
  {
   "cell_type": "code",
   "execution_count": 2,
   "id": "brutal-simpson",
   "metadata": {},
   "outputs": [
    {
     "data": {
      "text/html": [
       "<div>\n",
       "<style scoped>\n",
       "    .dataframe tbody tr th:only-of-type {\n",
       "        vertical-align: middle;\n",
       "    }\n",
       "\n",
       "    .dataframe tbody tr th {\n",
       "        vertical-align: top;\n",
       "    }\n",
       "\n",
       "    .dataframe thead th {\n",
       "        text-align: right;\n",
       "    }\n",
       "</style>\n",
       "<table border=\"1\" class=\"dataframe\">\n",
       "  <thead>\n",
       "    <tr style=\"text-align: right;\">\n",
       "      <th></th>\n",
       "      <th>Date</th>\n",
       "      <th>Open</th>\n",
       "      <th>High</th>\n",
       "      <th>Low</th>\n",
       "      <th>Close</th>\n",
       "      <th>Adj Close</th>\n",
       "      <th>Volume</th>\n",
       "    </tr>\n",
       "  </thead>\n",
       "  <tbody>\n",
       "    <tr>\n",
       "      <th>0</th>\n",
       "      <td>2016-03-16</td>\n",
       "      <td>416.888000</td>\n",
       "      <td>417.686005</td>\n",
       "      <td>415.911987</td>\n",
       "      <td>417.010986</td>\n",
       "      <td>417.010986</td>\n",
       "      <td>65185800</td>\n",
       "    </tr>\n",
       "    <tr>\n",
       "      <th>1</th>\n",
       "      <td>2016-03-17</td>\n",
       "      <td>417.889008</td>\n",
       "      <td>420.997009</td>\n",
       "      <td>417.889008</td>\n",
       "      <td>420.621002</td>\n",
       "      <td>420.621002</td>\n",
       "      <td>83528600</td>\n",
       "    </tr>\n",
       "    <tr>\n",
       "      <th>2</th>\n",
       "      <td>2016-03-18</td>\n",
       "      <td>420.546997</td>\n",
       "      <td>420.546997</td>\n",
       "      <td>406.136993</td>\n",
       "      <td>409.548004</td>\n",
       "      <td>409.548004</td>\n",
       "      <td>104940000</td>\n",
       "    </tr>\n",
       "    <tr>\n",
       "      <th>3</th>\n",
       "      <td>2016-03-19</td>\n",
       "      <td>409.265015</td>\n",
       "      <td>410.984009</td>\n",
       "      <td>407.230011</td>\n",
       "      <td>410.444000</td>\n",
       "      <td>410.444000</td>\n",
       "      <td>58423000</td>\n",
       "    </tr>\n",
       "    <tr>\n",
       "      <th>4</th>\n",
       "      <td>2016-03-20</td>\n",
       "      <td>410.401001</td>\n",
       "      <td>414.625000</td>\n",
       "      <td>410.401001</td>\n",
       "      <td>413.755005</td>\n",
       "      <td>413.755005</td>\n",
       "      <td>45947900</td>\n",
       "    </tr>\n",
       "  </tbody>\n",
       "</table>\n",
       "</div>"
      ],
      "text/plain": [
       "         Date        Open        High         Low       Close   Adj Close  \\\n",
       "0  2016-03-16  416.888000  417.686005  415.911987  417.010986  417.010986   \n",
       "1  2016-03-17  417.889008  420.997009  417.889008  420.621002  420.621002   \n",
       "2  2016-03-18  420.546997  420.546997  406.136993  409.548004  409.548004   \n",
       "3  2016-03-19  409.265015  410.984009  407.230011  410.444000  410.444000   \n",
       "4  2016-03-20  410.401001  414.625000  410.401001  413.755005  413.755005   \n",
       "\n",
       "      Volume  \n",
       "0   65185800  \n",
       "1   83528600  \n",
       "2  104940000  \n",
       "3   58423000  \n",
       "4   45947900  "
      ]
     },
     "execution_count": 2,
     "metadata": {},
     "output_type": "execute_result"
    }
   ],
   "source": [
    "df = pd.read_csv ('crypto/BTC-USD.csv')\n",
    "df.head(5)"
   ]
  },
  {
   "cell_type": "code",
   "execution_count": 3,
   "id": "spanish-treasure",
   "metadata": {},
   "outputs": [
    {
     "data": {
      "text/html": [
       "<div>\n",
       "<style scoped>\n",
       "    .dataframe tbody tr th:only-of-type {\n",
       "        vertical-align: middle;\n",
       "    }\n",
       "\n",
       "    .dataframe tbody tr th {\n",
       "        vertical-align: top;\n",
       "    }\n",
       "\n",
       "    .dataframe thead th {\n",
       "        text-align: right;\n",
       "    }\n",
       "</style>\n",
       "<table border=\"1\" class=\"dataframe\">\n",
       "  <thead>\n",
       "    <tr style=\"text-align: right;\">\n",
       "      <th></th>\n",
       "      <th>Date</th>\n",
       "      <th>Open</th>\n",
       "      <th>High</th>\n",
       "      <th>Low</th>\n",
       "      <th>Close</th>\n",
       "      <th>Volume</th>\n",
       "      <th>Adj Close</th>\n",
       "    </tr>\n",
       "  </thead>\n",
       "  <tbody>\n",
       "    <tr>\n",
       "      <th>0</th>\n",
       "      <td>2016-03-16</td>\n",
       "      <td>416.888000</td>\n",
       "      <td>417.686005</td>\n",
       "      <td>415.911987</td>\n",
       "      <td>417.010986</td>\n",
       "      <td>65185800</td>\n",
       "      <td>417.010986</td>\n",
       "    </tr>\n",
       "    <tr>\n",
       "      <th>1</th>\n",
       "      <td>2016-03-17</td>\n",
       "      <td>417.889008</td>\n",
       "      <td>420.997009</td>\n",
       "      <td>417.889008</td>\n",
       "      <td>420.621002</td>\n",
       "      <td>83528600</td>\n",
       "      <td>420.621002</td>\n",
       "    </tr>\n",
       "    <tr>\n",
       "      <th>2</th>\n",
       "      <td>2016-03-18</td>\n",
       "      <td>420.546997</td>\n",
       "      <td>420.546997</td>\n",
       "      <td>406.136993</td>\n",
       "      <td>409.548004</td>\n",
       "      <td>104940000</td>\n",
       "      <td>409.548004</td>\n",
       "    </tr>\n",
       "    <tr>\n",
       "      <th>3</th>\n",
       "      <td>2016-03-19</td>\n",
       "      <td>409.265015</td>\n",
       "      <td>410.984009</td>\n",
       "      <td>407.230011</td>\n",
       "      <td>410.444000</td>\n",
       "      <td>58423000</td>\n",
       "      <td>410.444000</td>\n",
       "    </tr>\n",
       "    <tr>\n",
       "      <th>4</th>\n",
       "      <td>2016-03-20</td>\n",
       "      <td>410.401001</td>\n",
       "      <td>414.625000</td>\n",
       "      <td>410.401001</td>\n",
       "      <td>413.755005</td>\n",
       "      <td>45947900</td>\n",
       "      <td>413.755005</td>\n",
       "    </tr>\n",
       "    <tr>\n",
       "      <th>...</th>\n",
       "      <td>...</td>\n",
       "      <td>...</td>\n",
       "      <td>...</td>\n",
       "      <td>...</td>\n",
       "      <td>...</td>\n",
       "      <td>...</td>\n",
       "      <td>...</td>\n",
       "    </tr>\n",
       "    <tr>\n",
       "      <th>1818</th>\n",
       "      <td>2021-03-12</td>\n",
       "      <td>57821.218750</td>\n",
       "      <td>57996.621094</td>\n",
       "      <td>55376.648438</td>\n",
       "      <td>57332.089844</td>\n",
       "      <td>55689944702</td>\n",
       "      <td>57332.089844</td>\n",
       "    </tr>\n",
       "    <tr>\n",
       "      <th>1819</th>\n",
       "      <td>2021-03-13</td>\n",
       "      <td>57343.371094</td>\n",
       "      <td>61683.863281</td>\n",
       "      <td>56217.972656</td>\n",
       "      <td>61243.085938</td>\n",
       "      <td>60669829814</td>\n",
       "      <td>61243.085938</td>\n",
       "    </tr>\n",
       "    <tr>\n",
       "      <th>1820</th>\n",
       "      <td>2021-03-14</td>\n",
       "      <td>61221.132812</td>\n",
       "      <td>61597.917969</td>\n",
       "      <td>59302.316406</td>\n",
       "      <td>59302.316406</td>\n",
       "      <td>43901225564</td>\n",
       "      <td>59302.316406</td>\n",
       "    </tr>\n",
       "    <tr>\n",
       "      <th>1821</th>\n",
       "      <td>2021-03-15</td>\n",
       "      <td>59267.429688</td>\n",
       "      <td>60540.992188</td>\n",
       "      <td>55393.164062</td>\n",
       "      <td>55907.199219</td>\n",
       "      <td>66419369890</td>\n",
       "      <td>55907.199219</td>\n",
       "    </tr>\n",
       "    <tr>\n",
       "      <th>1822</th>\n",
       "      <td>2021-03-16</td>\n",
       "      <td>55840.785156</td>\n",
       "      <td>56833.179688</td>\n",
       "      <td>53555.027344</td>\n",
       "      <td>56804.902344</td>\n",
       "      <td>59749798599</td>\n",
       "      <td>56804.902344</td>\n",
       "    </tr>\n",
       "  </tbody>\n",
       "</table>\n",
       "<p>1823 rows × 7 columns</p>\n",
       "</div>"
      ],
      "text/plain": [
       "            Date          Open          High           Low         Close  \\\n",
       "0     2016-03-16    416.888000    417.686005    415.911987    417.010986   \n",
       "1     2016-03-17    417.889008    420.997009    417.889008    420.621002   \n",
       "2     2016-03-18    420.546997    420.546997    406.136993    409.548004   \n",
       "3     2016-03-19    409.265015    410.984009    407.230011    410.444000   \n",
       "4     2016-03-20    410.401001    414.625000    410.401001    413.755005   \n",
       "...          ...           ...           ...           ...           ...   \n",
       "1818  2021-03-12  57821.218750  57996.621094  55376.648438  57332.089844   \n",
       "1819  2021-03-13  57343.371094  61683.863281  56217.972656  61243.085938   \n",
       "1820  2021-03-14  61221.132812  61597.917969  59302.316406  59302.316406   \n",
       "1821  2021-03-15  59267.429688  60540.992188  55393.164062  55907.199219   \n",
       "1822  2021-03-16  55840.785156  56833.179688  53555.027344  56804.902344   \n",
       "\n",
       "           Volume     Adj Close  \n",
       "0        65185800    417.010986  \n",
       "1        83528600    420.621002  \n",
       "2       104940000    409.548004  \n",
       "3        58423000    410.444000  \n",
       "4        45947900    413.755005  \n",
       "...           ...           ...  \n",
       "1818  55689944702  57332.089844  \n",
       "1819  60669829814  61243.085938  \n",
       "1820  43901225564  59302.316406  \n",
       "1821  66419369890  55907.199219  \n",
       "1822  59749798599  56804.902344  \n",
       "\n",
       "[1823 rows x 7 columns]"
      ]
     },
     "execution_count": 3,
     "metadata": {},
     "output_type": "execute_result"
    }
   ],
   "source": [
    "df = df[[\"Date\", \"Open\", \"High\", \"Low\", \"Close\", \"Volume\", \"Adj Close\"]]\n",
    "df"
   ]
  },
  {
   "cell_type": "code",
   "execution_count": 4,
   "id": "adopted-memorial",
   "metadata": {},
   "outputs": [
    {
     "data": {
      "text/plain": [
       "Index(['Date', 'Open', 'High', 'Low', 'Close', 'Volume', 'Adj Close'], dtype='object')"
      ]
     },
     "execution_count": 4,
     "metadata": {},
     "output_type": "execute_result"
    }
   ],
   "source": [
    "df.columns"
   ]
  },
  {
   "cell_type": "code",
   "execution_count": 5,
   "id": "shared-impression",
   "metadata": {},
   "outputs": [
    {
     "data": {
      "text/plain": [
       "1823"
      ]
     },
     "execution_count": 5,
     "metadata": {},
     "output_type": "execute_result"
    }
   ],
   "source": [
    "len(df)"
   ]
  },
  {
   "cell_type": "code",
   "execution_count": 6,
   "id": "aware-resident",
   "metadata": {},
   "outputs": [
    {
     "data": {
      "text/plain": [
       "array([[  417.01098633],\n",
       "       [  420.6210022 ],\n",
       "       [  409.54800415],\n",
       "       ...,\n",
       "       [59302.31640625],\n",
       "       [55907.19921875],\n",
       "       [56804.90234375]])"
      ]
     },
     "execution_count": 6,
     "metadata": {},
     "output_type": "execute_result"
    }
   ],
   "source": [
    "output = df.iloc[0:1823,6:7].values\n",
    "output = np.array(output)\n",
    "output"
   ]
  },
  {
   "cell_type": "code",
   "execution_count": 7,
   "id": "empty-language",
   "metadata": {},
   "outputs": [
    {
     "data": {
      "text/plain": [
       "array([[4.16888000e+02, 4.17686005e+02, 4.15911987e+02, 4.17010986e+02,\n",
       "        6.51858000e+07],\n",
       "       [4.17889008e+02, 4.20997009e+02, 4.17889008e+02, 4.20621002e+02,\n",
       "        8.35286000e+07],\n",
       "       [4.20546997e+02, 4.20546997e+02, 4.06136993e+02, 4.09548004e+02,\n",
       "        1.04940000e+08],\n",
       "       ...,\n",
       "       [6.12211328e+04, 6.15979180e+04, 5.93023164e+04, 5.93023164e+04,\n",
       "        4.39012256e+10],\n",
       "       [5.92674297e+04, 6.05409922e+04, 5.53931641e+04, 5.59071992e+04,\n",
       "        6.64193699e+10],\n",
       "       [5.58407852e+04, 5.68331797e+04, 5.35550273e+04, 5.68049023e+04,\n",
       "        5.97497986e+10]])"
      ]
     },
     "execution_count": 7,
     "metadata": {},
     "output_type": "execute_result"
    }
   ],
   "source": [
    "inputs = df.iloc[0:1823,1:6].values\n",
    "inputs = np.array(inputs)\n",
    "inputs"
   ]
  },
  {
   "cell_type": "code",
   "execution_count": 12,
   "id": "difficult-assistant",
   "metadata": {},
   "outputs": [],
   "source": [
    "###READ I N 1823 ROWS OF DATA, OUTPUT COLUMN 5-6 IS OUTPUT since data file cosider here have 1823 rows\n",
    "output = df.iloc[0:1823,6:7].values\n",
    "output = np.array(output)\n",
    "###READ IN 1823 ROWS OF DATA, INPUT COLUMN 1-5 IS OUTPUT\n",
    "inputs = df.iloc[0:1823,1:6].values\n",
    "inputs = np.array(inputs)\n",
    "scaler = MinMaxScaler(feature_range=(0,1))\n",
    "scaled_data = scaler.fit_transform(inputs)\n",
    "scaled_data = np.array(scaled_data)\n",
    "scaler2 = MinMaxScaler(feature_range=(0,1))\n",
    "scaled_data2 = scaler2.fit_transform(output)\n",
    "scaled_data2 = np.array(scaled_data2)\n",
    "scaled_data = np.reshape(scaled_data,(scaled_data.shape[0],scaled_data.shape[1],1))\n",
    "X_train = scaled_data\n",
    "Y_train = scaled_data2"
   ]
  },
  {
   "cell_type": "code",
   "execution_count": 13,
   "id": "danish-supplement",
   "metadata": {},
   "outputs": [
    {
     "name": "stdout",
     "output_type": "stream",
     "text": [
      "Epoch 1/10\n",
      "57/57 [==============================] - 2s 43ms/step - loss: 0.0101\n",
      "Epoch 2/10\n",
      "57/57 [==============================] - 2s 43ms/step - loss: 7.6594e-04\n",
      "Epoch 3/10\n",
      "57/57 [==============================] - 3s 56ms/step - loss: 6.9600e-04: 0s - loss: 7.279\n",
      "Epoch 4/10\n",
      "57/57 [==============================] - 3s 51ms/step - loss: 4.9814e-04\n",
      "Epoch 5/10\n",
      "57/57 [==============================] - 3s 44ms/step - loss: 6.9771e-04\n",
      "Epoch 6/10\n",
      "57/57 [==============================] - 3s 48ms/step - loss: 6.8827e-04\n",
      "Epoch 7/10\n",
      "57/57 [==============================] - 3s 48ms/step - loss: 6.0992e-04\n",
      "Epoch 8/10\n",
      "57/57 [==============================] - 3s 45ms/step - loss: 4.4686e-04\n",
      "Epoch 9/10\n",
      "57/57 [==============================] - 2s 43ms/step - loss: 5.0673e-04\n",
      "Epoch 10/10\n",
      "57/57 [==============================] - 2s 41ms/step - loss: 3.5606e-04\n"
     ]
    },
    {
     "data": {
      "text/plain": [
       "<tensorflow.python.keras.callbacks.History at 0x1a2f3130>"
      ]
     },
     "execution_count": 13,
     "metadata": {},
     "output_type": "execute_result"
    }
   ],
   "source": [
    "# Initialising the RNN\n",
    "regressor = Sequential()\n",
    "# Adding the first LSTM layer and some Dropout regularisation\n",
    "regressor.add(LSTM(units = 50, return_sequences = True, input_shape = (X_train.shape[1], 1)))\n",
    "regressor.add(Dropout(0.2))\n",
    "# Adding a second LSTM layer and some Dropout regularisation\n",
    "regressor.add(LSTM(units = 50, return_sequences = True))\n",
    "regressor.add(Dropout(0.2))\n",
    "# Adding a third LSTM layer and some Dropout regularisation\n",
    "regressor.add(LSTM(units = 50, return_sequences = True))\n",
    "regressor.add(Dropout(0.2))\n",
    "# Adding a fourth LSTM layer and some Dropout regularisation\n",
    "regressor.add(LSTM(units = 50))\n",
    "regressor.add(Dropout(0.2))\n",
    "# Adding the output layer\n",
    "regressor.add(Dense(units = 1))\n",
    "# Compiling the RNN\n",
    "regressor.compile(optimizer = 'adam', loss = 'mean_squared_error')\n",
    "# Fitting the RNN to the Training set\n",
    "regressor.fit(X_train, Y_train, epochs = 10, batch_size = 32) "
   ]
  },
  {
   "cell_type": "code",
   "execution_count": 20,
   "id": "advance-romania",
   "metadata": {},
   "outputs": [
    {
     "data": {
      "text/plain": [
       "array([[[ 7910.08984375],\n",
       "        [ 7950.81445312],\n",
       "        [ 7642.8125    ],\n",
       "        [ 7911.43017578],\n",
       "        [ 7911.43017578]],\n",
       "\n",
       "       [[ 7913.61621094],\n",
       "        [ 7929.11621094],\n",
       "        [ 4860.35400391],\n",
       "        [ 4970.78808594],\n",
       "        [ 4970.78808594]],\n",
       "\n",
       "       [[ 5017.83105469],\n",
       "        [ 5838.11474609],\n",
       "        [ 4106.98095703],\n",
       "        [ 5563.70703125],\n",
       "        [ 5563.70703125]],\n",
       "\n",
       "       ...,\n",
       "\n",
       "       [[61221.1328125 ],\n",
       "        [61597.91796875],\n",
       "        [59302.31640625],\n",
       "        [59302.31640625],\n",
       "        [59302.31640625]],\n",
       "\n",
       "       [[59267.4296875 ],\n",
       "        [60540.9921875 ],\n",
       "        [55393.1640625 ],\n",
       "        [55907.19921875],\n",
       "        [55907.19921875]],\n",
       "\n",
       "       [[55840.78515625],\n",
       "        [56833.1796875 ],\n",
       "        [53555.02734375],\n",
       "        [56804.90234375],\n",
       "        [56804.90234375]]])"
      ]
     },
     "execution_count": 20,
     "metadata": {},
     "output_type": "execute_result"
    }
   ],
   "source": [
    "X_test"
   ]
  },
  {
   "cell_type": "code",
   "execution_count": 25,
   "id": "martial-complement",
   "metadata": {
    "scrolled": false
   },
   "outputs": [],
   "source": [
    "# Part 3 - Making the predictions and visualising the results\n",
    "df99 = pd.read_csv ('crypto/BTC-USD.csv')\n",
    "Inp=df99.iloc[0:1823,1:6].values\n",
    "sc = MinMaxScaler(feature_range = (0, 1))\n",
    "training_set_scaled99 = sc.fit_transform(Inp)\n",
    "#df2 = pd.read_csv('crypto/BTC-USD.csv')\n",
    "#inputs2 = df2.iloc[1456:1840,1:6].values\n",
    "X_test = np.array(training_set_scaled99)\n",
    "X_test = np.reshape(X_test, (X_test.shape[0], X_test.shape[1], 1))\n",
    "#X_test =  tf.convert_to_tensor(X_test)\n",
    "predicted_stock_price = regressor.predict(X_test)\n",
    "#predicted_stock_price = sc.inverse_transform(predicted_stock_price)\n",
    "#plt.plot(real_stock_price, color = 'red', label = 'Bitcoin Price')"
   ]
  },
  {
   "cell_type": "code",
   "execution_count": 23,
   "id": "mediterranean-macintosh",
   "metadata": {},
   "outputs": [
    {
     "data": {
      "text/plain": [
       "array([[0.00318466],\n",
       "       [0.0032903 ],\n",
       "       [0.00319532],\n",
       "       ...,\n",
       "       [0.46264356],\n",
       "       [0.42518318],\n",
       "       [0.4208021 ]], dtype=float32)"
      ]
     },
     "execution_count": 23,
     "metadata": {},
     "output_type": "execute_result"
    }
   ],
   "source": [
    "predicted_stock_price"
   ]
  },
  {
   "cell_type": "code",
   "execution_count": 211,
   "id": "written-profit",
   "metadata": {},
   "outputs": [
    {
     "data": {
      "text/plain": [
       "array([], shape=(0, 4, 1), dtype=float64)"
      ]
     },
     "execution_count": 211,
     "metadata": {},
     "output_type": "execute_result"
    }
   ],
   "source": [
    "df2 = pd.read_csv('crypto/BTC-USD.csv')\n",
    "inputs2 = df2.iloc[1823:1840,1:5].values\n",
    "X_test = np.array(inputs2)\n",
    "X_test = np.reshape(X_test, (X_test.shape[0], X_test.shape[1], 1))\n",
    "X_test "
   ]
  },
  {
   "cell_type": "code",
   "execution_count": 26,
   "id": "offshore-carter",
   "metadata": {},
   "outputs": [
    {
     "data": {
      "image/png": "[encoded data removed]",
      "text/plain": [
       "<Figure size 432x288 with 1 Axes>"
      ]
     },
     "metadata": {
      "needs_background": "light"
     },
     "output_type": "display_data"
    }
   ],
   "source": [
    "plt.plot(predicted_stock_price, color = 'blue', label = 'Predicted Bitcoin Price')\n",
    "plt.title('Bitcoin Price Prediction')\n",
    "plt.xlabel('Time')\n",
    "plt.ylabel('Bitcoin Price')\n",
    "plt.legend()\n",
    "plt.show()"
   ]
  },
  {
   "cell_type": "code",
   "execution_count": null,
   "id": "combined-basement",
   "metadata": {},
   "outputs": [],
   "source": []
  }
 ],
 "metadata": {
  "kernelspec": {
   "display_name": "Python 3",
   "language": "python",
   "name": "python3"
  },
  "language_info": {
   "codemirror_mode": {
    "name": "ipython",
    "version": 3
   },
   "file_extension": ".py",
   "mimetype": "text/x-python",
   "name": "python",
   "nbconvert_exporter": "python",
   "pygments_lexer": "ipython3",
   "version": "3.8.5"
  }
 },
 "nbformat": 4,
 "nbformat_minor": 5
}
